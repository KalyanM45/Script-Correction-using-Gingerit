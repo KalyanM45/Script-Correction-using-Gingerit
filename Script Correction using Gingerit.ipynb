{
 "cells": [
  {
   "cell_type": "code",
   "execution_count": 14,
   "id": "ad00d20f",
   "metadata": {},
   "outputs": [
    {
     "name": "stdout",
     "output_type": "stream",
     "text": [
      "Collecting gingerit\n",
      "  Using cached gingerit-0.9.0-py3-none-any.whl (3.4 kB)\n",
      "Collecting cloudscraper<2.0.0,>=1.2.66\n",
      "  Using cached cloudscraper-1.2.71-py2.py3-none-any.whl (99 kB)\n",
      "Requirement already satisfied: requests-toolbelt>=0.9.1 in c:\\users\\kalyan\\anaconda3\\lib\\site-packages (from cloudscraper<2.0.0,>=1.2.66->gingerit) (0.9.1)\n",
      "Requirement already satisfied: requests>=2.9.2 in c:\\users\\kalyan\\anaconda3\\lib\\site-packages (from cloudscraper<2.0.0,>=1.2.66->gingerit) (2.28.1)\n",
      "Requirement already satisfied: pyparsing>=2.4.7 in c:\\users\\kalyan\\anaconda3\\lib\\site-packages (from cloudscraper<2.0.0,>=1.2.66->gingerit) (3.0.9)\n",
      "Requirement already satisfied: charset-normalizer<3,>=2 in c:\\users\\kalyan\\anaconda3\\lib\\site-packages (from requests>=2.9.2->cloudscraper<2.0.0,>=1.2.66->gingerit) (2.0.4)\n",
      "Requirement already satisfied: certifi>=2017.4.17 in c:\\users\\kalyan\\anaconda3\\lib\\site-packages (from requests>=2.9.2->cloudscraper<2.0.0,>=1.2.66->gingerit) (2022.12.7)\n",
      "Requirement already satisfied: idna<4,>=2.5 in c:\\users\\kalyan\\anaconda3\\lib\\site-packages (from requests>=2.9.2->cloudscraper<2.0.0,>=1.2.66->gingerit) (3.4)\n",
      "Requirement already satisfied: urllib3<1.27,>=1.21.1 in c:\\users\\kalyan\\anaconda3\\lib\\site-packages (from requests>=2.9.2->cloudscraper<2.0.0,>=1.2.66->gingerit) (1.26.14)\n",
      "Installing collected packages: cloudscraper, gingerit\n",
      "Successfully installed cloudscraper-1.2.71 gingerit-0.9.0\n",
      "Note: you may need to restart the kernel to use updated packages.\n"
     ]
    }
   ],
   "source": [
    "pip install gingerit"
   ]
  },
  {
   "cell_type": "code",
   "execution_count": 15,
   "id": "830ec5f9",
   "metadata": {},
   "outputs": [],
   "source": [
    "from gingerit.gingerit import GingerIt"
   ]
  },
  {
   "cell_type": "code",
   "execution_count": 22,
   "id": "5441b0c8",
   "metadata": {},
   "outputs": [
    {
     "name": "stdout",
     "output_type": "stream",
     "text": [
      "Enter a sentence >>: i has two cat and they loves play in the park\n",
      "\n",
      " I have two cats and they love play in the park\n"
     ]
    }
   ],
   "source": [
    "text = input(\"Enter a sentence >>: \")\n",
    "corrected_text = GingerIt().parse(text)\n",
    "print(\"\\n\",corrected_text['result'])"
   ]
  }
 ],
 "metadata": {
  "kernelspec": {
   "display_name": "Python 3 (ipykernel)",
   "language": "python",
   "name": "python3"
  },
  "language_info": {
   "codemirror_mode": {
    "name": "ipython",
    "version": 3
   },
   "file_extension": ".py",
   "mimetype": "text/x-python",
   "name": "python",
   "nbconvert_exporter": "python",
   "pygments_lexer": "ipython3",
   "version": "3.10.9"
  }
 },
 "nbformat": 4,
 "nbformat_minor": 5
}
